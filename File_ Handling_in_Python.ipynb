{
 "cells": [
  {
   "cell_type": "code",
   "execution_count": 1,
   "id": "54b23798",
   "metadata": {},
   "outputs": [
    {
     "data": {
      "text/plain": [
       "'Shatabdi\\n10000\\nSd\\n20000'"
      ]
     },
     "execution_count": 1,
     "metadata": {},
     "output_type": "execute_result"
    }
   ],
   "source": [
    "sd=open('File_Handling')\n",
    "\n",
    "sd.read()\n",
    "\n",
    "\n",
    "\n",
    "\n",
    "\n"
   ]
  },
  {
   "cell_type": "code",
   "execution_count": 2,
   "id": "aa921d1b",
   "metadata": {},
   "outputs": [
    {
     "data": {
      "text/plain": [
       "<function TextIOWrapper.read(size=-1, /)>"
      ]
     },
     "execution_count": 2,
     "metadata": {},
     "output_type": "execute_result"
    }
   ],
   "source": [
    "sd=open('File_Handling','w')\n",
    "\n",
    "sd.read\n",
    "\n"
   ]
  },
  {
   "cell_type": "code",
   "execution_count": 3,
   "id": "d8cd3bb5",
   "metadata": {},
   "outputs": [
    {
     "name": "stdout",
     "output_type": "stream",
     "text": [
      "<_io.TextIOWrapper name='File_Handling' mode='w' encoding='cp1252'>\n"
     ]
    }
   ],
   "source": [
    "sd1=open('File','w')\n",
    "\n",
    "sd1.write(\"File Handling In Python\")\n",
    "\n",
    "sd1.close()\n",
    "\n",
    "print(sd)\n",
    "\n",
    "\n",
    "\n",
    "\n",
    "\n",
    "\n"
   ]
  },
  {
   "cell_type": "raw",
   "id": "6cdf7cfd",
   "metadata": {},
   "source": []
  },
  {
   "cell_type": "code",
   "execution_count": 7,
   "id": "0abb2e64",
   "metadata": {},
   "outputs": [
    {
     "name": "stdout",
     "output_type": "stream",
     "text": [
      "Enter a Nmae: Shatabdi\n",
      "Enter a Nmae: Tushar\n",
      "Enter a Nmae: Saroj\n",
      "Enter a Nmae: Sd\n",
      "Enter a Nmae: raja\n"
     ]
    }
   ],
   "source": [
    "filename=\"example_file.txt\"\n",
    "\n",
    "f=open('example_file.txt','a')\n",
    "\n",
    "for i in range (0,5):\n",
    "    name=input(\"Enter a Nmae: \" )\n",
    "    f.write(name)\n",
    "f.close()\n"
   ]
  },
  {
   "cell_type": "code",
   "execution_count": 8,
   "id": "20fc94e8",
   "metadata": {},
   "outputs": [
    {
     "name": "stdout",
     "output_type": "stream",
     "text": [
      "Enter a Nmae: Shatabdi\n",
      "Enter a Nmae: Sd\n",
      "Enter a Nmae: Deepak\n",
      "Enter a Nmae: Tushar\n",
      "Enter a Nmae: Saroj\n"
     ]
    }
   ],
   "source": [
    "filename=\"example1_file.txt\"\n",
    "\n",
    "f1=open('example1_file.txt','a')\n",
    "\n",
    "for i in range (0,5):\n",
    "    name=input(\"Enter a Nmae: \" )\n",
    "    f1.write(name+ \"\\n\")\n",
    "f1.close()"
   ]
  },
  {
   "cell_type": "code",
   "execution_count": null,
   "id": "98842c2b",
   "metadata": {},
   "outputs": [],
   "source": []
  }
 ],
 "metadata": {
  "kernelspec": {
   "display_name": "Python 3 (ipykernel)",
   "language": "python",
   "name": "python3"
  },
  "language_info": {
   "codemirror_mode": {
    "name": "ipython",
    "version": 3
   },
   "file_extension": ".py",
   "mimetype": "text/x-python",
   "name": "python",
   "nbconvert_exporter": "python",
   "pygments_lexer": "ipython3",
   "version": "3.9.7"
  }
 },
 "nbformat": 4,
 "nbformat_minor": 5
}
